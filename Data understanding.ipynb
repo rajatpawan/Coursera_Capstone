{
 "cells": [
  {
   "cell_type": "markdown",
   "metadata": {},
   "source": [
    "# Data Understanding"
   ]
  },
  {
   "cell_type": "markdown",
   "metadata": {},
   "source": [
    "For the analysis, data should have **infrastructural, environmental and situation factors** for an accident.\n",
    "\n",
    "* Infrastructural factors would include type of junctions and type of turn. For example, existence of bland turn may increase the probability of accidents.\n",
    "* Environmental factors include raining and lighting condition at the time of accident. For example, heavy rainfall may increase the probability of accidents, specially, if the road has slop and it is slippery.\n",
    "* Situational factors involve factors like vehicle types and drivers’ condition. For example, speedy and driver under influence of drug or alcohol have high probability of meeting an accident."
   ]
  }
 ],
 "metadata": {
  "kernelspec": {
   "display_name": "Python 3",
   "language": "python",
   "name": "python3"
  },
  "language_info": {
   "codemirror_mode": {
    "name": "ipython",
    "version": 3
   },
   "file_extension": ".py",
   "mimetype": "text/x-python",
   "name": "python",
   "nbconvert_exporter": "python",
   "pygments_lexer": "ipython3",
   "version": "3.7.6"
  }
 },
 "nbformat": 4,
 "nbformat_minor": 4
}
